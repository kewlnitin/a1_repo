{
 "cells": [
  {
   "cell_type": "code",
   "execution_count": 4,
   "metadata": {},
   "outputs": [
    {
     "name": "stdout",
     "output_type": "stream",
     "text": [
      "pygame 2.1.2 (SDL 2.0.18, Python 3.9.1)\n",
      "Hello from the pygame community. https://www.pygame.org/contribute.html\n"
     ]
    },
    {
     "data": {
      "text/plain": [
       "\"\\nif __name__ == '__main__':\\n    import python_ta\\n    python_ta.check_all(config={\\n        'allowed-import-modules': [\\n            'python_ta', 'typing', 'datetime', 'bill', 'call', 'math'\\n        ],\\n        'disable': ['R0902', 'R0913'],\\n        'generated-members': 'pygame.*'\\n    })\\n\""
      ]
     },
     "execution_count": 4,
     "metadata": {},
     "output_type": "execute_result"
    }
   ],
   "source": [
    "\"\"\"\n",
    "CSC148, Winter 2022\n",
    "Assignment 1\n",
    "\n",
    "This code is provided solely for the personal and private use of\n",
    "students taking the CSC148 course at the University of Toronto.\n",
    "Copying for purposes other than this use is expressly prohibited.\n",
    "All forms of distribution of this code, whether as given or with\n",
    "any changes, are expressly prohibited.\n",
    "\n",
    "All of the files in this directory and all subdirectories are:\n",
    "Copyright (c) 2022 Bogdan Simion, Diane Horton, Jacqueline Smith\n",
    "\"\"\"\n",
    "import datetime\n",
    "from math import ceil\n",
    "from typing import Optional\n",
    "from bill import Bill\n",
    "from call import Call\n",
    "\n",
    "\n",
    "# Constants for the month-to-month contract monthly fee and term deposit\n",
    "MTM_MONTHLY_FEE = 50.00\n",
    "TERM_MONTHLY_FEE = 20.00\n",
    "TERM_DEPOSIT = 300.00\n",
    "\n",
    "# Constants for the included minutes and SMSs in the term contracts (per month)\n",
    "TERM_MINS = 100\n",
    "\n",
    "# Cost per minute and per SMS in the month-to-month contract\n",
    "MTM_MINS_COST = 0.05\n",
    "\n",
    "# Cost per minute and per SMS in the term contract\n",
    "TERM_MINS_COST = 0.1\n",
    "\n",
    "# Cost per minute and per SMS in the prepaid contract\n",
    "PREPAID_MINS_COST = 0.025\n",
    "\n",
    "\n",
    "class Contract:\n",
    "    \"\"\" A contract for a phone line\n",
    "\n",
    "    This class is not to be changed or instantiated. It is an Abstract Class.\n",
    "\n",
    "    === Public Attributes ===\n",
    "    start:\n",
    "         starting date for the contract\n",
    "    bill:\n",
    "         bill for this contract for the last month of call records loaded from\n",
    "         the input dataset\n",
    "    \"\"\"\n",
    "    start: datetime.date\n",
    "    bill: Optional[Bill]\n",
    "\n",
    "    def __init__(self, start: datetime.date) -> None:\n",
    "        \"\"\" Create a new Contract with the <start> date, starts as inactive\n",
    "        \"\"\"\n",
    "        self.start = start\n",
    "        self.bill = None\n",
    "\n",
    "    def new_month(self, month: int, year: int, bill: Bill) -> None:\n",
    "        \"\"\" Advance to a new month in the contract, corresponding to <month> and\n",
    "        <year>. This may be the first month of the contract.\n",
    "        Store the <bill> argument in this contract and set the appropriate rate\n",
    "        per minute and fixed cost.\n",
    "\n",
    "        DO NOT CHANGE THIS METHOD\n",
    "        \"\"\"\n",
    "        raise NotImplementedError\n",
    "\n",
    "    def bill_call(self, call: Call) -> None:\n",
    "        \"\"\" Add the <call> to the bill.\n",
    "\n",
    "        Precondition:\n",
    "        - a bill has already been created for the month+year when the <call>\n",
    "        was made. In other words, you can safely assume that self.bill has been\n",
    "        already advanced to the right month+year.\n",
    "        \"\"\"\n",
    "        self.bill.add_billed_minutes(ceil(call.duration / 60.0))\n",
    "\n",
    "    def cancel_contract(self) -> float:\n",
    "        \"\"\" Return the amount owed in order to close the phone line associated\n",
    "        with this contract.\n",
    "\n",
    "        Precondition:\n",
    "        - a bill has already been created for the month+year when this contract\n",
    "        is being cancelled. In other words, you can safely assume that self.bill\n",
    "        exists for the right month+year when the cancelation is requested.\n",
    "        \"\"\"\n",
    "        self.start = None\n",
    "        return self.bill.get_cost()\n",
    "\n",
    "\n",
    "# TODO: Implement the MTMContract, TermContract, and PrepaidContract\n",
    "\n",
    "\"\"\"\n",
    "if __name__ == '__main__':\n",
    "    import python_ta\n",
    "    python_ta.check_all(config={\n",
    "        'allowed-import-modules': [\n",
    "            'python_ta', 'typing', 'datetime', 'bill', 'call', 'math'\n",
    "        ],\n",
    "        'disable': ['R0902', 'R0913'],\n",
    "        'generated-members': 'pygame.*'\n",
    "    })\n",
    "\"\"\""
   ]
  },
  {
   "cell_type": "code",
   "execution_count": 3,
   "metadata": {},
   "outputs": [
    {
     "name": "stdout",
     "output_type": "stream",
     "text": [
      "Collecting pygame\n",
      "  Downloading pygame-2.1.2-cp39-cp39-win_amd64.whl (8.4 MB)\n",
      "     ---------------------------------------- 8.4/8.4 MB 3.3 MB/s eta 0:00:00\n",
      "Installing collected packages: pygame\n",
      "Successfully installed pygame-2.1.2\n"
     ]
    }
   ],
   "source": [
    "class TermContract(Contract):\n",
    "    def\n"
   ]
  },
  {
   "cell_type": "code",
   "execution_count": null,
   "metadata": {},
   "outputs": [],
   "source": []
  }
 ],
 "metadata": {
  "kernelspec": {
   "display_name": "Python 3",
   "language": "python",
   "name": "python3"
  },
  "language_info": {
   "codemirror_mode": {
    "name": "ipython",
    "version": 3
   },
   "file_extension": ".py",
   "mimetype": "text/x-python",
   "name": "python",
   "nbconvert_exporter": "python",
   "pygments_lexer": "ipython3",
   "version": "3.9.1"
  }
 },
 "nbformat": 4,
 "nbformat_minor": 4
}
